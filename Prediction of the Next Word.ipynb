{
 "cells": [
  {
   "cell_type": "code",
   "execution_count": 1,
   "id": "f872c4c1",
   "metadata": {},
   "outputs": [],
   "source": [
    "#prediction of the Next Word"
   ]
  },
  {
   "cell_type": "code",
   "execution_count": 2,
   "id": "8b778e63",
   "metadata": {},
   "outputs": [],
   "source": [
    "import pandas as pd\n",
    "import os\n",
    "import numpy as np\n",
    "\n",
    "import tensorflow as tf\n",
    "from tensorflow.keras.preprocessing.sequence import pad_sequences\n",
    "from tensorflow.keras.layers import Embedding, LSTM, Dense, Bidirectional\n",
    "from tensorflow.keras.preprocessing.text import Tokenizer\n",
    "from tensorflow.keras.models import Sequential\n",
    "from tensorflow.keras.optimizers import Adam"
   ]
  },
  {
   "cell_type": "code",
   "execution_count": 3,
   "id": "6838ce9a",
   "metadata": {},
   "outputs": [
    {
     "data": {
      "text/html": [
       "<div>\n",
       "<style scoped>\n",
       "    .dataframe tbody tr th:only-of-type {\n",
       "        vertical-align: middle;\n",
       "    }\n",
       "\n",
       "    .dataframe tbody tr th {\n",
       "        vertical-align: top;\n",
       "    }\n",
       "\n",
       "    .dataframe thead th {\n",
       "        text-align: right;\n",
       "    }\n",
       "</style>\n",
       "<table border=\"1\" class=\"dataframe\">\n",
       "  <thead>\n",
       "    <tr style=\"text-align: right;\">\n",
       "      <th></th>\n",
       "      <th>id</th>\n",
       "      <th>url</th>\n",
       "      <th>title</th>\n",
       "      <th>subtitle</th>\n",
       "      <th>image</th>\n",
       "      <th>claps</th>\n",
       "      <th>responses</th>\n",
       "      <th>reading_time</th>\n",
       "      <th>publication</th>\n",
       "      <th>date</th>\n",
       "    </tr>\n",
       "  </thead>\n",
       "  <tbody>\n",
       "    <tr>\n",
       "      <th>0</th>\n",
       "      <td>1</td>\n",
       "      <td>https://towardsdatascience.com/a-beginners-gui...</td>\n",
       "      <td>A Beginner’s Guide to Word Embedding with Gens...</td>\n",
       "      <td>NaN</td>\n",
       "      <td>1.png</td>\n",
       "      <td>850</td>\n",
       "      <td>8</td>\n",
       "      <td>8</td>\n",
       "      <td>Towards Data Science</td>\n",
       "      <td>2019-05-30</td>\n",
       "    </tr>\n",
       "    <tr>\n",
       "      <th>1</th>\n",
       "      <td>2</td>\n",
       "      <td>https://towardsdatascience.com/hands-on-graph-...</td>\n",
       "      <td>Hands-on Graph Neural Networks with PyTorch &amp; ...</td>\n",
       "      <td>NaN</td>\n",
       "      <td>2.png</td>\n",
       "      <td>1100</td>\n",
       "      <td>11</td>\n",
       "      <td>9</td>\n",
       "      <td>Towards Data Science</td>\n",
       "      <td>2019-05-30</td>\n",
       "    </tr>\n",
       "    <tr>\n",
       "      <th>2</th>\n",
       "      <td>3</td>\n",
       "      <td>https://towardsdatascience.com/how-to-use-ggpl...</td>\n",
       "      <td>How to Use ggplot2 in Python</td>\n",
       "      <td>A Grammar of Graphics for Python</td>\n",
       "      <td>3.png</td>\n",
       "      <td>767</td>\n",
       "      <td>1</td>\n",
       "      <td>5</td>\n",
       "      <td>Towards Data Science</td>\n",
       "      <td>2019-05-30</td>\n",
       "    </tr>\n",
       "    <tr>\n",
       "      <th>3</th>\n",
       "      <td>4</td>\n",
       "      <td>https://towardsdatascience.com/databricks-how-...</td>\n",
       "      <td>Databricks: How to Save Files in CSV on Your L...</td>\n",
       "      <td>When I work on Python projects dealing…</td>\n",
       "      <td>4.jpeg</td>\n",
       "      <td>354</td>\n",
       "      <td>0</td>\n",
       "      <td>4</td>\n",
       "      <td>Towards Data Science</td>\n",
       "      <td>2019-05-30</td>\n",
       "    </tr>\n",
       "    <tr>\n",
       "      <th>4</th>\n",
       "      <td>5</td>\n",
       "      <td>https://towardsdatascience.com/a-step-by-step-...</td>\n",
       "      <td>A Step-by-Step Implementation of Gradient Desc...</td>\n",
       "      <td>One example of building neural…</td>\n",
       "      <td>5.jpeg</td>\n",
       "      <td>211</td>\n",
       "      <td>3</td>\n",
       "      <td>4</td>\n",
       "      <td>Towards Data Science</td>\n",
       "      <td>2019-05-30</td>\n",
       "    </tr>\n",
       "  </tbody>\n",
       "</table>\n",
       "</div>"
      ],
      "text/plain": [
       "   id                                                url  \\\n",
       "0   1  https://towardsdatascience.com/a-beginners-gui...   \n",
       "1   2  https://towardsdatascience.com/hands-on-graph-...   \n",
       "2   3  https://towardsdatascience.com/how-to-use-ggpl...   \n",
       "3   4  https://towardsdatascience.com/databricks-how-...   \n",
       "4   5  https://towardsdatascience.com/a-step-by-step-...   \n",
       "\n",
       "                                               title  \\\n",
       "0  A Beginner’s Guide to Word Embedding with Gens...   \n",
       "1  Hands-on Graph Neural Networks with PyTorch & ...   \n",
       "2                       How to Use ggplot2 in Python   \n",
       "3  Databricks: How to Save Files in CSV on Your L...   \n",
       "4  A Step-by-Step Implementation of Gradient Desc...   \n",
       "\n",
       "                                  subtitle   image  claps responses  \\\n",
       "0                                      NaN   1.png    850         8   \n",
       "1                                      NaN   2.png   1100        11   \n",
       "2         A Grammar of Graphics for Python   3.png    767         1   \n",
       "3  When I work on Python projects dealing…  4.jpeg    354         0   \n",
       "4          One example of building neural…  5.jpeg    211         3   \n",
       "\n",
       "   reading_time           publication        date  \n",
       "0             8  Towards Data Science  2019-05-30  \n",
       "1             9  Towards Data Science  2019-05-30  \n",
       "2             5  Towards Data Science  2019-05-30  \n",
       "3             4  Towards Data Science  2019-05-30  \n",
       "4             4  Towards Data Science  2019-05-30  "
      ]
     },
     "execution_count": 3,
     "metadata": {},
     "output_type": "execute_result"
    }
   ],
   "source": [
    "medium_data = pd.read_csv('F:\\Intership\\medium_data.csv')\n",
    "medium_data.head()"
   ]
  },
  {
   "cell_type": "code",
   "execution_count": 4,
   "id": "5e5bd289",
   "metadata": {},
   "outputs": [
    {
     "name": "stdout",
     "output_type": "stream",
     "text": [
      "Number of records:  6508\n",
      "Number of fields:  10\n"
     ]
    }
   ],
   "source": [
    "print(\"Number of records: \", medium_data.shape[0])\n",
    "print(\"Number of fields: \", medium_data.shape[1])"
   ]
  },
  {
   "cell_type": "code",
   "execution_count": 5,
   "id": "f0e53423",
   "metadata": {},
   "outputs": [
    {
     "data": {
      "text/plain": [
       "0       A Beginner’s Guide to Word Embedding with Gens...\n",
       "1       Hands-on Graph Neural Networks with PyTorch & ...\n",
       "2                            How to Use ggplot2 in Python\n",
       "3       Databricks: How to Save Files in CSV on Your L...\n",
       "4       A Step-by-Step Implementation of Gradient Desc...\n",
       "                              ...                        \n",
       "6503    “We” vs “I” — How Should You Talk About Yourse...\n",
       "6504                     How Donald Trump Markets Himself\n",
       "6505        Content and Marketing Beyond Mass Consumption\n",
       "6506    5 Questions All Copywriters Should Ask Clients...\n",
       "6507               How To Write a Good Business Blog Post\n",
       "Name: title, Length: 6508, dtype: object"
      ]
     },
     "execution_count": 5,
     "metadata": {},
     "output_type": "execute_result"
    }
   ],
   "source": [
    "medium_data['title']"
   ]
  },
  {
   "cell_type": "code",
   "execution_count": 6,
   "id": "50484206",
   "metadata": {},
   "outputs": [],
   "source": [
    "medium_data['title'] = medium_data['title'].apply(lambda x: x.replace(u'\\xa0',u' '))\n",
    "medium_data['title'] = medium_data['title'].apply(lambda x: x.replace('\\u200a',' '))"
   ]
  },
  {
   "cell_type": "code",
   "execution_count": 7,
   "id": "24036daf",
   "metadata": {},
   "outputs": [
    {
     "name": "stdout",
     "output_type": "stream",
     "text": [
      "Total number of words:  8238\n",
      "Word: ID\n",
      "------------\n",
      "<oov>:  1\n",
      "Strong:  4\n",
      "And:  8\n",
      "Consumption:  8237\n"
     ]
    }
   ],
   "source": [
    "tokenizer = Tokenizer(oov_token='<oov>') # For those words which are not found in word_index\n",
    "tokenizer.fit_on_texts(medium_data['title'])\n",
    "total_words = len(tokenizer.word_index) + 1\n",
    "\n",
    "print(\"Total number of words: \", total_words)\n",
    "print(\"Word: ID\")\n",
    "print(\"------------\")\n",
    "print(\"<oov>: \", tokenizer.word_index['<oov>'])\n",
    "print(\"Strong: \", tokenizer.word_index['strong'])\n",
    "print(\"And: \", tokenizer.word_index['and'])\n",
    "print(\"Consumption: \", tokenizer.word_index['consumption'])"
   ]
  },
  {
   "cell_type": "code",
   "execution_count": 8,
   "id": "ef899cc5",
   "metadata": {},
   "outputs": [
    {
     "name": "stdout",
     "output_type": "stream",
     "text": [
      "Total input sequences:  48461\n"
     ]
    }
   ],
   "source": [
    "input_sequences = []\n",
    "for line in medium_data['title']:\n",
    "    token_list = tokenizer.texts_to_sequences([line])[0]\n",
    "    #print(token_list)\n",
    "    \n",
    "    for i in range(1, len(token_list)):\n",
    "        n_gram_sequence = token_list[:i+1]\n",
    "        input_sequences.append(n_gram_sequence)\n",
    "\n",
    "# print(input_sequences)\n",
    "print(\"Total input sequences: \", len(input_sequences))"
   ]
  },
  {
   "cell_type": "code",
   "execution_count": 9,
   "id": "39feb8fb",
   "metadata": {},
   "outputs": [
    {
     "data": {
      "text/plain": [
       "array([  0,   0,   0,   0,   0,   0,   0,   0,   0,   0,   0,   0,   0,\n",
       "         0,   0,   0,   0,   0,   0,   0,   0,   0,   0,   0,   0,   0,\n",
       "         0,   0,   0,   0,   0,   0,   0,   0,   0,   0,   0,   5, 676,\n",
       "        68])"
      ]
     },
     "execution_count": 9,
     "metadata": {},
     "output_type": "execute_result"
    }
   ],
   "source": [
    "# pad sequences \n",
    "max_sequence_len = max([len(x) for x in input_sequences])\n",
    "input_sequences = np.array(pad_sequences(input_sequences, maxlen=max_sequence_len, padding='pre'))\n",
    "input_sequences[1]"
   ]
  },
  {
   "cell_type": "code",
   "execution_count": 10,
   "id": "865d1c92",
   "metadata": {},
   "outputs": [
    {
     "name": "stdout",
     "output_type": "stream",
     "text": [
      "[   0    0    0    0    0    0    0    0    0    0    0    0    0    0\n",
      "    0    0    0    0    0    0    0    0    0    0    0    0    0    0\n",
      "    0    0    0    0    0    5  676   68    2  452 1518]\n"
     ]
    }
   ],
   "source": [
    "# create features and label\n",
    "xs, labels = input_sequences[:,:-1],input_sequences[:,-1]\n",
    "ys = tf.keras.utils.to_categorical(labels, num_classes=total_words)\n",
    "print(xs[5])"
   ]
  },
  {
   "cell_type": "code",
   "execution_count": 11,
   "id": "7e9067d5",
   "metadata": {},
   "outputs": [
    {
     "name": "stdout",
     "output_type": "stream",
     "text": [
      "[   0    0    0    0    0    0    0    0    0    0    0    0    0    0\n",
      "    0    0    0    0    0    0    0    0    0    0    0    0    0    0\n",
      "    0    0    0    0    0    5  676   68    2  452 1518]\n",
      "14\n",
      "1.0\n"
     ]
    }
   ],
   "source": [
    "print(xs[5])\n",
    "print(labels[5])\n",
    "print(ys[5][14])"
   ]
  },
  {
   "cell_type": "code",
   "execution_count": 12,
   "id": "b17d6f03",
   "metadata": {},
   "outputs": [
    {
     "name": "stderr",
     "output_type": "stream",
     "text": [
      "WARNING:absl:`lr` is deprecated, please use `learning_rate` instead, or use the legacy optimizer, e.g.,tf.keras.optimizers.legacy.Adam.\n"
     ]
    },
    {
     "name": "stdout",
     "output_type": "stream",
     "text": [
      "Epoch 1/50\n",
      "1515/1515 [==============================] - 337s 217ms/step - loss: 6.9888 - accuracy: 0.0857\n",
      "Epoch 2/50\n",
      "1515/1515 [==============================] - 313s 207ms/step - loss: 6.1697 - accuracy: 0.1396\n",
      "Epoch 3/50\n",
      "1515/1515 [==============================] - 286s 189ms/step - loss: 5.6457 - accuracy: 0.1686\n",
      "Epoch 4/50\n",
      "1515/1515 [==============================] - 279s 184ms/step - loss: 5.1727 - accuracy: 0.1928\n",
      "Epoch 5/50\n",
      "1515/1515 [==============================] - 245s 162ms/step - loss: 4.7230 - accuracy: 0.2178\n",
      "Epoch 6/50\n",
      "1515/1515 [==============================] - 254s 168ms/step - loss: 4.3002 - accuracy: 0.2458\n",
      "Epoch 7/50\n",
      "1515/1515 [==============================] - 276s 182ms/step - loss: 3.8995 - accuracy: 0.2869\n",
      "Epoch 8/50\n",
      "1515/1515 [==============================] - 381s 252ms/step - loss: 3.5217 - accuracy: 0.3363\n",
      "Epoch 9/50\n",
      "1515/1515 [==============================] - 279s 184ms/step - loss: 3.1695 - accuracy: 0.3914\n",
      "Epoch 10/50\n",
      "1515/1515 [==============================] - 280s 185ms/step - loss: 2.8500 - accuracy: 0.4466\n",
      "Epoch 11/50\n",
      "1515/1515 [==============================] - 255s 169ms/step - loss: 2.5677 - accuracy: 0.4951\n",
      "Epoch 12/50\n",
      "1515/1515 [==============================] - 257s 170ms/step - loss: 2.3182 - accuracy: 0.5396\n",
      "Epoch 13/50\n",
      "1515/1515 [==============================] - 275s 182ms/step - loss: 2.0959 - accuracy: 0.5840\n",
      "Epoch 14/50\n",
      "1515/1515 [==============================] - 260s 171ms/step - loss: 1.8996 - accuracy: 0.6204\n",
      "Epoch 15/50\n",
      "1515/1515 [==============================] - 260s 171ms/step - loss: 1.7259 - accuracy: 0.6557\n",
      "Epoch 16/50\n",
      "1515/1515 [==============================] - 287s 189ms/step - loss: 1.5742 - accuracy: 0.6856\n",
      "Epoch 17/50\n",
      "1515/1515 [==============================] - 277s 183ms/step - loss: 1.4368 - accuracy: 0.7132\n",
      "Epoch 18/50\n",
      "1515/1515 [==============================] - 283s 187ms/step - loss: 1.3193 - accuracy: 0.7340\n",
      "Epoch 19/50\n",
      "1515/1515 [==============================] - 278s 184ms/step - loss: 1.2159 - accuracy: 0.7562\n",
      "Epoch 20/50\n",
      "1515/1515 [==============================] - 279s 184ms/step - loss: 1.1266 - accuracy: 0.7718\n",
      "Epoch 21/50\n",
      "1515/1515 [==============================] - 262s 173ms/step - loss: 1.0471 - accuracy: 0.7895\n",
      "Epoch 22/50\n",
      "1515/1515 [==============================] - 252s 166ms/step - loss: 0.9815 - accuracy: 0.8010\n",
      "Epoch 23/50\n",
      "1515/1515 [==============================] - 255s 169ms/step - loss: 0.9229 - accuracy: 0.8113\n",
      "Epoch 24/50\n",
      "1515/1515 [==============================] - 252s 166ms/step - loss: 0.8731 - accuracy: 0.8201\n",
      "Epoch 25/50\n",
      "1515/1515 [==============================] - 252s 166ms/step - loss: 0.8282 - accuracy: 0.8278\n",
      "Epoch 26/50\n",
      "1515/1515 [==============================] - 252s 167ms/step - loss: 0.7919 - accuracy: 0.8336\n",
      "Epoch 27/50\n",
      "1515/1515 [==============================] - 256s 169ms/step - loss: 0.7595 - accuracy: 0.8384\n",
      "Epoch 28/50\n",
      "1515/1515 [==============================] - 257s 170ms/step - loss: 0.7326 - accuracy: 0.8439\n",
      "Epoch 29/50\n",
      "1515/1515 [==============================] - 250s 165ms/step - loss: 0.7094 - accuracy: 0.8460\n",
      "Epoch 30/50\n",
      "1515/1515 [==============================] - 251s 165ms/step - loss: 0.6902 - accuracy: 0.8475\n",
      "Epoch 31/50\n",
      "1515/1515 [==============================] - 253s 167ms/step - loss: 0.6753 - accuracy: 0.8499\n",
      "Epoch 32/50\n",
      "1515/1515 [==============================] - 253s 167ms/step - loss: 0.6593 - accuracy: 0.8512\n",
      "Epoch 33/50\n",
      "1515/1515 [==============================] - 260s 172ms/step - loss: 0.6476 - accuracy: 0.8523\n",
      "Epoch 34/50\n",
      "1515/1515 [==============================] - 268s 177ms/step - loss: 0.6354 - accuracy: 0.8528\n",
      "Epoch 35/50\n",
      "1515/1515 [==============================] - 272s 180ms/step - loss: 0.6276 - accuracy: 0.8535\n",
      "Epoch 36/50\n",
      "1515/1515 [==============================] - 268s 177ms/step - loss: 0.6211 - accuracy: 0.8532\n",
      "Epoch 37/50\n",
      "1515/1515 [==============================] - 256s 169ms/step - loss: 0.6110 - accuracy: 0.8556\n",
      "Epoch 38/50\n",
      "1515/1515 [==============================] - 249s 164ms/step - loss: 0.6064 - accuracy: 0.8547\n",
      "Epoch 39/50\n",
      "1515/1515 [==============================] - 268s 177ms/step - loss: 0.6033 - accuracy: 0.8544\n",
      "Epoch 40/50\n",
      "1515/1515 [==============================] - 256s 169ms/step - loss: 0.5974 - accuracy: 0.8547\n",
      "Epoch 41/50\n",
      "1515/1515 [==============================] - 291s 192ms/step - loss: 0.5928 - accuracy: 0.8555\n",
      "Epoch 42/50\n",
      "1515/1515 [==============================] - 270s 178ms/step - loss: 0.5889 - accuracy: 0.8559\n",
      "Epoch 43/50\n",
      "1515/1515 [==============================] - 251s 166ms/step - loss: 0.5842 - accuracy: 0.8551\n",
      "Epoch 44/50\n",
      "1515/1515 [==============================] - 257s 169ms/step - loss: 0.5837 - accuracy: 0.8551\n",
      "Epoch 45/50\n",
      "1515/1515 [==============================] - 260s 172ms/step - loss: 0.5800 - accuracy: 0.8553\n",
      "Epoch 46/50\n",
      "1515/1515 [==============================] - 253s 167ms/step - loss: 0.5767 - accuracy: 0.8552\n",
      "Epoch 47/50\n",
      "1515/1515 [==============================] - 251s 166ms/step - loss: 0.5731 - accuracy: 0.8554\n",
      "Epoch 48/50\n",
      "1515/1515 [==============================] - 265s 175ms/step - loss: 0.5725 - accuracy: 0.8554\n",
      "Epoch 49/50\n",
      "1515/1515 [==============================] - 282s 186ms/step - loss: 0.5688 - accuracy: 0.8561\n",
      "Epoch 50/50\n",
      "1515/1515 [==============================] - 273s 180ms/step - loss: 0.5684 - accuracy: 0.8548\n",
      "<keras.engine.sequential.Sequential object at 0x000001A2B9E16AF0>\n"
     ]
    }
   ],
   "source": [
    "model = Sequential()\n",
    "model.add(Embedding(total_words, 100, input_length=max_sequence_len-1))\n",
    "model.add(Bidirectional(LSTM(150)))\n",
    "model.add(Dense(total_words, activation='softmax'))\n",
    "adam = Adam(lr=0.01)\n",
    "model.compile(loss='categorical_crossentropy', optimizer=adam, metrics=['accuracy'])\n",
    "history = model.fit(xs, ys, epochs=50, verbose=1)\n",
    "#print model.summary()\n",
    "print(model)"
   ]
  },
  {
   "cell_type": "code",
   "execution_count": 13,
   "id": "3d8d28d9",
   "metadata": {},
   "outputs": [],
   "source": [
    "import matplotlib.pyplot as plt\n",
    "\n",
    "\n",
    "def plot_graphs(history, string):\n",
    "    plt.plot(history.history[string])\n",
    "    plt.xlabel(\"Epochs\")\n",
    "    plt.ylabel(string)\n",
    "    plt.show()"
   ]
  },
  {
   "cell_type": "code",
   "execution_count": 14,
   "id": "5a3045fd",
   "metadata": {},
   "outputs": [
    {
     "data": {
      "image/png": "[encoded data removed]",
      "text/plain": [
       "<Figure size 640x480 with 1 Axes>"
      ]
     },
     "metadata": {},
     "output_type": "display_data"
    }
   ],
   "source": [
    "plot_graphs(history, 'accuracy')\n"
   ]
  },
  {
   "cell_type": "code",
   "execution_count": 15,
   "id": "add9d944",
   "metadata": {},
   "outputs": [
    {
     "data": {
      "image/png": "[encoded data removed]",
      "text/plain": [
       "<Figure size 640x480 with 1 Axes>"
      ]
     },
     "metadata": {},
     "output_type": "display_data"
    }
   ],
   "source": [
    "plot_graphs(history, 'loss')\n"
   ]
  },
  {
   "cell_type": "code",
   "execution_count": null,
   "id": "0bd093bb",
   "metadata": {},
   "outputs": [],
   "source": []
  }
 ],
 "metadata": {
  "kernelspec": {
   "display_name": "Python 3 (ipykernel)",
   "language": "python",
   "name": "python3"
  },
  "language_info": {
   "codemirror_mode": {
    "name": "ipython",
    "version": 3
   },
   "file_extension": ".py",
   "mimetype": "text/x-python",
   "name": "python",
   "nbconvert_exporter": "python",
   "pygments_lexer": "ipython3",
   "version": "3.9.13"
  }
 },
 "nbformat": 4,
 "nbformat_minor": 5
}
